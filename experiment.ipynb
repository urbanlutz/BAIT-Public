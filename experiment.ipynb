{
 "cells": [
  {
   "cell_type": "code",
   "execution_count": 8,
   "metadata": {},
   "outputs": [],
   "source": [
    "import numpy as np\n",
    "from original_code.synflow.main import get_args as synflow_get_args\n",
    "import run\n",
    "from params import *\n",
    "from pruning import *"
   ]
  },
  {
   "cell_type": "code",
   "execution_count": 9,
   "metadata": {},
   "outputs": [],
   "source": [
    "state = State()"
   ]
  },
  {
   "cell_type": "code",
   "execution_count": 10,
   "metadata": {},
   "outputs": [
    {
     "name": "stdout",
     "output_type": "stream",
     "text": [
      "Loading cifar10 dataset.\n",
      "Files already downloaded and verified\n",
      "Files already downloaded and verified\n",
      "Files already downloaded and verified\n",
      "Creating lottery-resnet20 model.\n"
     ]
    }
   ],
   "source": [
    "data_params = DataParams(dataset=\"cifar10\")\n",
    "run.prepare_data(state, data_params)\n",
    "\n",
    "model_params = ModelParams(model_class=\"lottery\", model=\"resnet20\")\n",
    "run.prepare_model(state, model_params, data_params)"
   ]
  },
  {
   "cell_type": "code",
   "execution_count": 7,
   "metadata": {},
   "outputs": [
    {
     "ename": "AttributeError",
     "evalue": "'str' object has no attribute 'stats'",
     "output_type": "error",
     "traceback": [
      "\u001b[0;31m---------------------------------------------------------------------------\u001b[0m",
      "\u001b[0;31mAttributeError\u001b[0m                            Traceback (most recent call last)",
      "\u001b[1;32m/workspaces/BAIT/experiment.ipynb Cell 5'\u001b[0m in \u001b[0;36m<cell line: 3>\u001b[0;34m()\u001b[0m\n\u001b[1;32m      <a href='vscode-notebook-cell://dev-container%2B7b22686f737450617468223a222f686f6d652f7562756e74752f626169742f424149542f424149542e636f64652d776f726b7370616365222c226c6f63616c446f636b6572223a66616c73652c2273657474696e6773223a7b22686f7374223a227373683a2f2f3136302e38352e3235322e323439227d7d/workspaces/BAIT/experiment.ipynb#ch0000004vscode-remote?line=1'>2</a>\u001b[0m prune_params \u001b[39m=\u001b[39m PruningParams(strategy\u001b[39m=\u001b[39m\u001b[39m\"\u001b[39m\u001b[39msynflow\u001b[39m\u001b[39m\"\u001b[39m, sparsity \u001b[39m=\u001b[39m \u001b[39m0.5\u001b[39m)\n\u001b[0;32m----> <a href='vscode-notebook-cell://dev-container%2B7b22686f737450617468223a222f686f6d652f7562756e74752f626169742f424149542f424149542e636f64652d776f726b7370616365222c226c6f63616c446f636b6572223a66616c73652c2273657474696e6773223a7b22686f7374223a227373683a2f2f3136302e38352e3235322e323439227d7d/workspaces/BAIT/experiment.ipynb#ch0000004vscode-remote?line=2'>3</a>\u001b[0m prune_result \u001b[39m=\u001b[39m one_shot_pruning(state, prune_params, data_params)\n",
      "File \u001b[0;32m/workspaces/BAIT/pruning.py:6\u001b[0m, in \u001b[0;36mone_shot_pruning\u001b[0;34m(state, prune_params, data_params)\u001b[0m\n\u001b[1;32m      <a href='file:///workspaces/BAIT/pruning.py?line=4'>5</a>\u001b[0m \u001b[39mdef\u001b[39;00m \u001b[39mone_shot_pruning\u001b[39m(state, prune_params: PruningParams, data_params: DataParams):\n\u001b[0;32m----> <a href='file:///workspaces/BAIT/pruning.py?line=5'>6</a>\u001b[0m     remaining_params, total_params \u001b[39m=\u001b[39m prune_params\u001b[39m.\u001b[39;49mstrategy\u001b[39m.\u001b[39;49mstats()\n\u001b[1;32m      <a href='file:///workspaces/BAIT/pruning.py?line=6'>7</a>\u001b[0m     current_sparsity \u001b[39m=\u001b[39m remaining_params \u001b[39m/\u001b[39m total_params\n\u001b[1;32m      <a href='file:///workspaces/BAIT/pruning.py?line=8'>9</a>\u001b[0m     \u001b[39mif\u001b[39;00m current_sparsity \u001b[39m<\u001b[39m prune_params\u001b[39m.\u001b[39msparsity:\n",
      "\u001b[0;31mAttributeError\u001b[0m: 'str' object has no attribute 'stats'"
     ]
    }
   ],
   "source": [
    "\n",
    "prune_params = PruningParams(strategy=\"synflow\", sparsity = 0.5)\n",
    "prune_result = one_shot_pruning(state, prune_params, data_params)\n"
   ]
  },
  {
   "cell_type": "code",
   "execution_count": 1,
   "metadata": {},
   "outputs": [
    {
     "ename": "NameError",
     "evalue": "name 'state' is not defined",
     "output_type": "error",
     "traceback": [
      "\u001b[0;31m---------------------------------------------------------------------------\u001b[0m",
      "\u001b[0;31mNameError\u001b[0m                                 Traceback (most recent call last)",
      "\u001b[1;32m/workspaces/BAIT/experiment.ipynb Cell 6'\u001b[0m in \u001b[0;36m<cell line: 1>\u001b[0;34m()\u001b[0m\n\u001b[0;32m----> <a href='vscode-notebook-cell://dev-container%2B7b22686f737450617468223a222f686f6d652f7562756e74752f626169742f424149542f424149542e636f64652d776f726b7370616365222c226c6f63616c446f636b6572223a66616c73652c2273657474696e6773223a7b22686f7374223a227373683a2f2f3136302e38352e3235322e323439227d7d/workspaces/BAIT/experiment.ipynb#ch0000005vscode-remote?line=0'>1</a>\u001b[0m state\n",
      "\u001b[0;31mNameError\u001b[0m: name 'state' is not defined"
     ]
    }
   ],
   "source": [
    "pre_result = run.train(state, epochs=1)\n",
    "\n",
    "# continue with lth\n",
    "lth_prune_result = iterative_pruning(state, args, )"
   ]
  }
 ],
 "metadata": {
  "interpreter": {
   "hash": "d4d1e4263499bec80672ea0156c357c1ee493ec2b1c70f0acce89fc37c4a6abe"
  },
  "kernelspec": {
   "display_name": "Python 3.8.3 ('base')",
   "language": "python",
   "name": "python3"
  },
  "language_info": {
   "codemirror_mode": {
    "name": "ipython",
    "version": 3
   },
   "file_extension": ".py",
   "mimetype": "text/x-python",
   "name": "python",
   "nbconvert_exporter": "python",
   "pygments_lexer": "ipython3",
   "version": "3.8.3"
  },
  "orig_nbformat": 4
 },
 "nbformat": 4,
 "nbformat_minor": 2
}
